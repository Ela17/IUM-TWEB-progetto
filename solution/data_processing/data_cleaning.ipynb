{
 "cells": [
  {
   "cell_type": "markdown",
   "id": "beaf0513",
   "metadata": {},
   "source": [
    "## Pulizia dei dati forniti dal docente per l'inserimento nel database"
   ]
  },
  {
   "cell_type": "code",
   "execution_count": 18,
   "id": "e1f800f1",
   "metadata": {},
   "outputs": [],
   "source": [
    "import pandas as pd\n",
    "from pathlib import Path\n",
    "from scripts.normalization import normalize_description, normalize_score, normalize_title"
   ]
  },
  {
   "cell_type": "code",
   "execution_count": 19,
   "id": "c71431a4",
   "metadata": {},
   "outputs": [],
   "source": [
    "base_dir = Path().resolve().parent.parent\n",
    "data_path = base_dir / 'data'\n",
    "data_clean_path = base_dir / 'data_clean'\n",
    "data={}"
   ]
  },
  {
   "cell_type": "code",
   "execution_count": 20,
   "id": "f5c516ec",
   "metadata": {},
   "outputs": [],
   "source": [
    "for file in data_path.glob('*.csv'):\n",
    "    nome = file.stem\n",
    "    data[nome] = pd.read_csv(file)"
   ]
  },
  {
   "cell_type": "markdown",
   "id": "74bb975a",
   "metadata": {},
   "source": [
    "Per prima cosa, eliminiamo tutti i film che non hanno nome valido:"
   ]
  },
  {
   "cell_type": "code",
   "execution_count": 21,
   "id": "9c8bd698",
   "metadata": {},
   "outputs": [],
   "source": [
    "data['the_oscar_awards'] = data['the_oscar_awards'].dropna(subset='film')\n",
    "data['rotten_tomatoes_reviews'] = data['rotten_tomatoes_reviews'].dropna(subset='movie_title')"
   ]
  },
  {
   "cell_type": "markdown",
   "id": "6d2e053a",
   "metadata": {},
   "source": [
    "Normalizzazione descrizioni e recensioni di rotten_tomato:"
   ]
  },
  {
   "cell_type": "code",
   "execution_count": 22,
   "id": "574c27e5",
   "metadata": {},
   "outputs": [],
   "source": [
    "data['rotten_tomatoes_reviews'].review_score = data['rotten_tomatoes_reviews'].review_score.apply(normalize_score)\n",
    "data['movies']['description'] = normalize_description(data['movies']['description'])\n",
    "data['movies'].date =  data['movies'].date.astype('Int64')"
   ]
  },
  {
   "cell_type": "markdown",
   "id": "da3e2e5c",
   "metadata": {},
   "source": [
    "Matching ID tra rotten_tomatoes_reviews, the_oscar_awards e movies.id:"
   ]
  },
  {
   "cell_type": "code",
   "execution_count": 23,
   "id": "f8835873",
   "metadata": {},
   "outputs": [],
   "source": [
    "data['movies']['name_clean'] = data['movies']['name'].apply(normalize_title)\n",
    "data['rotten_tomatoes_reviews']['movie_name_clean'] = data['rotten_tomatoes_reviews']['movie_title'].apply(lambda x: normalize_title(x, parentesi=True))\n",
    "data['the_oscar_awards']['film_clean'] = data['the_oscar_awards']['film'].apply(lambda x: normalize_title(x, parentesi=True))"
   ]
  },
  {
   "cell_type": "code",
   "execution_count": 24,
   "id": "c65b014f",
   "metadata": {},
   "outputs": [],
   "source": [
    "movies_unique = data['movies'].drop_duplicates(subset='name_clean')"
   ]
  },
  {
   "cell_type": "code",
   "execution_count": 25,
   "id": "6518f661",
   "metadata": {},
   "outputs": [],
   "source": [
    "data['rotten_tomatoes_reviews'] = data['rotten_tomatoes_reviews'].merge(movies_unique[['id', 'name_clean']], left_on='movie_name_clean', right_on='name_clean', how='left').drop(columns=['movie_name_clean','name_clean'])\n",
    "data['the_oscar_awards'] = data['the_oscar_awards'].merge(movies_unique[['id', 'name_clean']], left_on='film_clean', right_on='name_clean', how='left').drop(columns=['film_clean','name_clean'])\n",
    "data['movies'] = data['movies'].drop(columns='name_clean')"
   ]
  },
  {
   "cell_type": "code",
   "execution_count": 26,
   "id": "bb49895f",
   "metadata": {},
   "outputs": [],
   "source": [
    "data['the_oscar_awards'].id = data['the_oscar_awards'].id.astype('Int64')\n",
    "data['rotten_tomatoes_reviews'].id = data['rotten_tomatoes_reviews'].id.astype('Int64')"
   ]
  },
  {
   "cell_type": "code",
   "execution_count": 27,
   "id": "3b425558",
   "metadata": {},
   "outputs": [],
   "source": [
    "data_clean_path.mkdir(exist_ok=True)\n",
    "\n",
    "for name,df in data.items():\n",
    "    if name != 'movies':\n",
    "        df= df.rename(columns={'id':'id_movie'})\n",
    "\n",
    "    df.to_csv(data_clean_path / f'{name}.csv', index=False)"
   ]
  }
 ],
 "metadata": {
  "kernelspec": {
   "display_name": "Python 3",
   "language": "python",
   "name": "python3"
  },
  "language_info": {
   "codemirror_mode": {
    "name": "ipython",
    "version": 3
   },
   "file_extension": ".py",
   "mimetype": "text/x-python",
   "name": "python",
   "nbconvert_exporter": "python",
   "pygments_lexer": "ipython3",
   "version": "3.13.5"
  }
 },
 "nbformat": 4,
 "nbformat_minor": 5
}
